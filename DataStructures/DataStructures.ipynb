{
 "cells": [
  {
   "cell_type": "markdown",
   "metadata": {},
   "source": [
    "# Data Structures"
   ]
  },
  {
   "cell_type": "code",
   "execution_count": null,
   "metadata": {
    "collapsed": false,
    "jupyter": {
     "outputs_hidden": false
    }
   },
   "outputs": [],
   "source": [
    "from LinkedLists import LinkedList, SortedList\n",
    "from Trees import BinarySearchTree, AVLTree, KDTree\n",
    "\n",
    "import numpy as np\n",
    "from time import time\n",
    "from random import sample\n",
    "\n",
    "from matplotlib import rcParams, pyplot as plt\n",
    "%matplotlib inline\n",
    "rcParams[\"figure.figsize\"] = (16,8)"
   ]
  },
  {
   "cell_type": "markdown",
   "metadata": {},
   "source": [
    "### Timing\n",
    "\n",
    "Having a variety of data structures available to store, access, and sort data is an essential part of data analysis and maintenance because different data structures have different pros and cons.\n",
    "We can easily compare the build and search speeds of the `LinkedList`, `BST`, and `AVL` classes."
   ]
  },
  {
   "cell_type": "code",
   "execution_count": null,
   "metadata": {
    "collapsed": false,
    "jupyter": {
     "outputs_hidden": false
    }
   },
   "outputs": [],
   "source": [
    "def time_operation(data, structure, operation):\n",
    "    \"\"\"Return the time it takes to perform the given operation on the\n",
    "    provided structure for each item in the provided set of data.\n",
    "    \"\"\"\n",
    "    start = time()\n",
    "    for item in data:\n",
    "        operation(item)\n",
    "    return time() - start\n",
    "\n",
    "def time_structures(dataset, domain):\n",
    "\n",
    "    # Initialize lists to hold results\n",
    "    dls_build, dls_search = [], []\n",
    "    sls_build, sls_search = [], []\n",
    "    bst_build, bst_search = [], []\n",
    "    avl_build, avl_search = [], []\n",
    "\n",
    "    for n in domain:\n",
    "\n",
    "        # Initialize the data subset and the data structures.\n",
    "        subset = sample(dataset, n)\n",
    "        dls, sls = LinkedList(), SortedList()\n",
    "        bst, avl = BinarySearchTree(), AVLTree()\n",
    "\n",
    "        # Time the builds.\n",
    "        dls_build.append(time_operation(subset, dls, dls.append))\n",
    "        sls_build.append(time_operation(subset, sls, sls.append))\n",
    "        bst_build.append(time_operation(subset, bst, bst.insert))\n",
    "        avl_build.append(time_operation(subset, avl, avl.insert))\n",
    "\n",
    "        # Time the searches.\n",
    "        random_subset = sample(subset, 15)\n",
    "        dls_search.append(time_operation(subset, dls, dls._find))\n",
    "        sls_search.append(time_operation(subset, sls, sls._find))\n",
    "        bst_search.append(time_operation(subset, bst, bst.find))\n",
    "        avl_search.append(time_operation(subset, avl, avl.find))\n",
    "\n",
    "    # Plot the results.\n",
    "    plt.subplot(121)\n",
    "    plt.title(\"Build Times\")\n",
    "    for structure, name in [(dls_build, \"Doubly Linked List\"), (sls_build, \"Sorted Linked List\"),\n",
    "                            (bst_build, \"Binary Search Tree\"), (avl_build, \"AVL Tree\")]:\n",
    "        plt.loglog(domain, structure, '.-', lw=2, ms=10, basex=2, basey=2, label=name)\n",
    "    plt.xlabel(\"Size of data set\")\n",
    "    plt.ylabel(\"Seconds\")\n",
    "    plt.legend(loc='upper left')\n",
    "\n",
    "    plt.subplot(122)\n",
    "    plt.title(\"Search Times\")\n",
    "    for structure, name in [(dls_search, \"Doubly Linked List\"), (sls_search, \"Sorted Linked List\"),\n",
    "                            (bst_search, \"Binary Search Tree\"), (avl_search, \"AVL Tree\")]:\n",
    "        plt.loglog(domain, structure, '.-', lw=2, ms=10, basex=2, basey=2, label=name)\n",
    "    plt.xlabel(\"Size of data set\")\n",
    "    plt.legend(loc='upper left')\n",
    "    plt.show()\n",
    "\n"
   ]
  },
  {
   "cell_type": "code",
   "execution_count": null,
   "metadata": {
    "collapsed": false,
    "jupyter": {
     "outputs_hidden": false
    }
   },
   "outputs": [],
   "source": [
    "N = 9\n",
    "\n",
    "dataset = np.random.random(2**(N+1))\n",
    "domain = 2**np.arange(4,N+1)\n",
    "\n",
    "time_structures(dataset, domain)"
   ]
  },
  {
   "cell_type": "markdown",
   "metadata": {},
   "source": [
    "### The Curse of Dimensionality\n",
    "Working with multidimensional data can problematic because of the so-called _curse of dimensionality_.\n",
    "As the dimension of the data increases, the execution time of many algorithms experiences a sudden exponential jump.\n",
    "To demonstrate this phenomenon, we use the `KDTree` class to solve the nearest neighbor problem, increasing the dimensionality of the data set."
   ]
  },
  {
   "cell_type": "code",
   "execution_count": null,
   "metadata": {},
   "outputs": [],
   "source": [
    "# TODO: Nearest neighbor with homegrown KDT."
   ]
  }
 ],
 "metadata": {
  "kernelspec": {
   "display_name": "Python 3",
   "language": "python",
   "name": "python3"
  },
  "language_info": {
   "codemirror_mode": {
    "name": "ipython",
    "version": 3
   },
   "file_extension": ".py",
   "mimetype": "text/x-python",
   "name": "python",
   "nbconvert_exporter": "python",
   "pygments_lexer": "ipython3",
   "version": "3.7.7"
  }
 },
 "nbformat": 4,
 "nbformat_minor": 4
}
